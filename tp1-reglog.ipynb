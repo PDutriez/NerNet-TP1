{
 "cells": [
  {
   "cell_type": "markdown",
   "metadata": {},
   "source": []
  }
 ],
 "metadata": {
  "kernelspec": {
   "display_name": "Python 3.8.10 64-bit",
   "language": "python",
   "name": "python3"
  },
  "language_info": {
   "name": "python",
   "version": "3.8.10"
  },
  "orig_nbformat": 4,
  "vscode": {
   "interpreter": {
    "hash": "b61a1a0bf8d2b6dbc17bdc74d896464607971e4df2e97df31afc584aea15919e"
   }
  }
 },
 "nbformat": 4,
 "nbformat_minor": 2
}
